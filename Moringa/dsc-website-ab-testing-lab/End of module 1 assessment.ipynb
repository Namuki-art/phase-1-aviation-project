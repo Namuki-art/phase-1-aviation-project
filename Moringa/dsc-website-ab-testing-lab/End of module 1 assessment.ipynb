{
 "cells": [
  {
   "cell_type": "markdown",
   "metadata": {},
   "source": [
    "Create a NumPy array from the list of the following integers [4, 8, 15, 16, 23, 42] and culculate the mean, meadian and standard deviation."
   ]
  },
  {
   "cell_type": "code",
   "execution_count": 1,
   "metadata": {},
   "outputs": [],
   "source": [
    "import numpy as np"
   ]
  },
  {
   "cell_type": "code",
   "execution_count": 3,
   "metadata": {},
   "outputs": [],
   "source": [
    "a=np.array([4,8,15,16,23,42])\n"
   ]
  },
  {
   "cell_type": "code",
   "execution_count": 4,
   "metadata": {},
   "outputs": [],
   "source": [
    "mean = np.mean(a)\n",
    "median = np.median(a)\n",
    "std_dev=np.std(a)\n",
    "\n"
   ]
  },
  {
   "cell_type": "code",
   "execution_count": 5,
   "metadata": {},
   "outputs": [
    {
     "name": "stdout",
     "output_type": "stream",
     "text": [
      "18.0\n",
      "15.5\n",
      "12.315302134607444\n"
     ]
    }
   ],
   "source": [
    "print(mean)\n",
    "print(median)\n",
    "print(std_dev)"
   ]
  },
  {
   "cell_type": "markdown",
   "metadata": {},
   "source": [
    "Create two NumPy arrays with the elements 1, 2, 3, 4, 5 and 5, 4, 3, 2, 1. Use the created arrays and calculate; element-wise addition, subtraction, multiplication, and division of these arrays."
   ]
  },
  {
   "cell_type": "code",
   "execution_count": 6,
   "metadata": {},
   "outputs": [],
   "source": [
    "element_a = np.array([1,2,3,4,5])\n",
    "element_b = np.array([5,4,3,2,1])"
   ]
  },
  {
   "cell_type": "code",
   "execution_count": 8,
   "metadata": {},
   "outputs": [],
   "source": [
    "addition = element_a+element_b\n",
    "subtraction = element_a-element_b\n",
    "multiplication = element_a*element_b\n",
    "division = element_a/element_b"
   ]
  },
  {
   "cell_type": "code",
   "execution_count": 11,
   "metadata": {},
   "outputs": [
    {
     "name": "stdout",
     "output_type": "stream",
     "text": [
      "Addition: [6 6 6 6 6]\n",
      "Subtraction: [-4 -2  0  2  4]\n",
      "Multiplication: [5 8 9 8 5]\n",
      "Division [0.2 0.5 1.  2.  5. ]\n"
     ]
    }
   ],
   "source": [
    "print(\"Addition:\", addition)\n",
    "print(\"Subtraction:\", subtraction)\n",
    "print(\"Multiplication:\", multiplication)\n",
    "print(\"Division\", division)"
   ]
  },
  {
   "cell_type": "markdown",
   "metadata": {},
   "source": [
    "Create a NumPy array with the following values [1, 4, 9, 16, 25, 36, 49, 64, 81, 100]. Use the array and Calculate and display the square root. The format of the output should be; Square Roots: [ 1. 5. 9. 4. 5. 6. 7. 10. 9. 10.]"
   ]
  },
  {
   "cell_type": "code",
   "execution_count": 14,
   "metadata": {},
   "outputs": [
    {
     "name": "stdout",
     "output_type": "stream",
     "text": [
      "Square Roots: [ 1.  2.  3.  4.  5.  6.  7.  8.  9. 10.]\n"
     ]
    }
   ],
   "source": [
    "values = np.array([1,4,9,16,25,36,49,64,81,100])\n",
    "sqrt = np.sqrt(values)\n",
    "print(\"Square Roots:\", sqrt)"
   ]
  },
  {
   "cell_type": "code",
   "execution_count": null,
   "metadata": {},
   "outputs": [],
   "source": []
  }
 ],
 "metadata": {
  "kernelspec": {
   "display_name": "Python 3",
   "language": "python",
   "name": "python3"
  },
  "language_info": {
   "codemirror_mode": {
    "name": "ipython",
    "version": 3
   },
   "file_extension": ".py",
   "mimetype": "text/x-python",
   "name": "python",
   "nbconvert_exporter": "python",
   "pygments_lexer": "ipython3",
   "version": "3.8.5"
  }
 },
 "nbformat": 4,
 "nbformat_minor": 4
}
